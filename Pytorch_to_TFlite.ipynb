{
  "nbformat": 4,
  "nbformat_minor": 0,
  "metadata": {
    "colab": {
      "name": "Pytorch_to_TFlite.ipynb",
      "provenance": []
    },
    "kernelspec": {
      "name": "python3",
      "display_name": "Python 3"
    },
    "language_info": {
      "name": "python"
    }
  },
  "cells": [
    {
      "cell_type": "code",
      "execution_count": 1,
      "metadata": {
        "colab": {
          "base_uri": "https://localhost:8080/"
        },
        "id": "_a3_eSHSqF0V",
        "outputId": "4c7c4472-e001-437c-ab26-f3597f8d0418"
      },
      "outputs": [
        {
          "output_type": "stream",
          "name": "stdout",
          "text": [
            "Collecting onnx\n",
            "  Downloading onnx-1.10.2-cp37-cp37m-manylinux_2_12_x86_64.manylinux2010_x86_64.whl (12.7 MB)\n",
            "\u001b[K     |████████████████████████████████| 12.7 MB 8.0 MB/s \n",
            "\u001b[?25hCollecting onnx_tf\n",
            "  Downloading onnx_tf-1.9.0-py3-none-any.whl (222 kB)\n",
            "\u001b[K     |████████████████████████████████| 222 kB 45.1 MB/s \n",
            "\u001b[?25hRequirement already satisfied: typing-extensions>=3.6.2.1 in /usr/local/lib/python3.7/dist-packages (from onnx) (3.10.0.2)\n",
            "Requirement already satisfied: numpy>=1.16.6 in /usr/local/lib/python3.7/dist-packages (from onnx) (1.19.5)\n",
            "Requirement already satisfied: protobuf in /usr/local/lib/python3.7/dist-packages (from onnx) (3.17.3)\n",
            "Requirement already satisfied: six in /usr/local/lib/python3.7/dist-packages (from onnx) (1.15.0)\n",
            "Requirement already satisfied: PyYAML in /usr/local/lib/python3.7/dist-packages (from onnx_tf) (3.13)\n",
            "Collecting tensorflow-addons\n",
            "  Downloading tensorflow_addons-0.15.0-cp37-cp37m-manylinux_2_12_x86_64.manylinux2010_x86_64.whl (1.1 MB)\n",
            "\u001b[K     |████████████████████████████████| 1.1 MB 53.6 MB/s \n",
            "\u001b[?25hRequirement already satisfied: typeguard>=2.7 in /usr/local/lib/python3.7/dist-packages (from tensorflow-addons->onnx_tf) (2.7.1)\n",
            "Installing collected packages: tensorflow-addons, onnx, onnx-tf\n",
            "Successfully installed onnx-1.10.2 onnx-tf-1.9.0 tensorflow-addons-0.15.0\n",
            "Cloning into 'CelebFaces-Attributes-Prediction'...\n",
            "remote: Enumerating objects: 97, done.\u001b[K\n",
            "remote: Counting objects: 100% (44/44), done.\u001b[K\n",
            "remote: Compressing objects: 100% (44/44), done.\u001b[K\n",
            "remote: Total 97 (delta 23), reused 1 (delta 0), pack-reused 53\u001b[K\n",
            "Unpacking objects: 100% (97/97), done.\n"
          ]
        }
      ],
      "source": [
        "!pip install onnx onnx_tf\n",
        "!git clone https://github.com/kartikbatra056/CelebFaces-Attributes-Prediction.git\n",
        "\n",
        "import torch\n",
        "import tensorflow as tf\n",
        "import onnx\n",
        "from torch.autograd import Variable\n",
        "from onnx_tf.backend import prepare"
      ]
    },
    {
      "cell_type": "code",
      "source": [
        "import torch\n",
        "import torch.nn as nn\n",
        "from torch.utils.data import Dataset,DataLoader\n",
        "import torchvision.transforms as transforms\n",
        "from PIL import Image\n",
        "import io\n",
        "# Defining Class for Single Layer.\n",
        "class Layer(nn.Module):\n",
        "    def __init__(self,in_ch,out_ch,kernel_size=3,stride=1,padding=1):\n",
        "        super(Layer,self).__init__()\n",
        "        self.conv=nn.Conv2d(in_ch,out_ch,kernel_size,stride,padding)\n",
        "        self.bn=nn.BatchNorm2d(out_ch)\n",
        "        self.relu=nn.ReLU()\n",
        "        nn.init.xavier_uniform_(self.conv.weight)\n",
        "    def forward(self,Input):\n",
        "        output=self.conv(Input)\n",
        "        output=self.bn(output)\n",
        "        output=self.relu(output)\n",
        "        return output\n",
        "\n",
        "class Permute(nn.Module):\n",
        "    def __init__(self, *args):\n",
        "        super(Permute, self).__init__()\n",
        "        self.order = args\n",
        "\n",
        "    def forward(self, x):\n",
        "        return x.permute(self.order)\n",
        "\n",
        "# Define complete model\n",
        "class CelebModel(nn.Module):\n",
        "    def __init__(self,num_classes=40):\n",
        "        super(CelebModel,self).__init__()\n",
        "\n",
        "        self.unit0 = Permute(0, 3, 1, 2)\n",
        "        self.unit1=Layer(in_ch=3,out_ch=32)\n",
        "        self.unit2=Layer(in_ch=32,out_ch=32)\n",
        "        self.pool1=nn.MaxPool2d(kernel_size=2)\n",
        "\n",
        "        self.unit3=Layer(in_ch=32,out_ch=64)\n",
        "        self.unit4=Layer(in_ch=64,out_ch=64)\n",
        "        self.pool2=nn.MaxPool2d(kernel_size=2)\n",
        "\n",
        "        self.unit5=Layer(in_ch=64,out_ch=128)\n",
        "        self.unit6=Layer(in_ch=128,out_ch=128)\n",
        "        self.unit7=Layer(in_ch=128,out_ch=128)\n",
        "        self.pool3=nn.MaxPool2d(kernel_size=2)\n",
        "\n",
        "        self.unit8=Layer(in_ch=128,out_ch=256,kernel_size=5,padding=0)\n",
        "        self.unit9=Layer(in_ch=256,out_ch=256,kernel_size=5,padding=0)\n",
        "        self.unit10=Layer(in_ch=256,out_ch=256,kernel_size=5,padding=0)\n",
        "        self.pool4=nn.MaxPool2d(kernel_size=2)\n",
        "\n",
        "        self.drop2=nn.Dropout(0.5)\n",
        "\n",
        "        self.unit11=Layer(in_ch=256,out_ch=512,kernel_size=3,padding=0)\n",
        "        self.unit12=Layer(in_ch=512,out_ch=512,kernel_size=3,padding=0)\n",
        "        self.unit13=Layer(in_ch=512,out_ch=512,kernel_size=3,padding=0)\n",
        "\n",
        "        self.pool5=nn.AvgPool2d(kernel_size=2)\n",
        "\n",
        "        self.drop3=nn.Dropout(0.5)\n",
        "\n",
        "        self.model=nn.Sequential(self.unit1,self.unit2,self.pool1,self.unit3,\n",
        "                                 self.unit4,self.pool2,self.unit5,self.unit6,\n",
        "                                 self.unit7,self.pool3,self.unit8,self.unit9,\n",
        "                                 self.unit10,self.pool4,self.drop2,self.unit11,\n",
        "                                 self.unit12,self.unit13,self.pool5,self.drop3)\n",
        "\n",
        "        self.fc=nn.Linear(in_features=512,out_features=num_classes)\n",
        "\n",
        "    def forward(self,Input):\n",
        "        \n",
        "        output = self.unit0(Input)\n",
        "        output=self.model(output)\n",
        "        output=output.view(-1,512)\n",
        "        output=self.fc(output)\n",
        "\n",
        "        return output\n",
        "\n",
        "# creating model object\n",
        "model=CelebModel()\n",
        "\n",
        "# load weights\n",
        "model.load_state_dict(torch.load('/content/CelebFaces-Attributes-Prediction/model.pth',map_location=torch.device('cpu')))\n",
        "\n",
        "# set dropout and batch normalization layers to evaluation mode\n",
        "model.eval()"
      ],
      "metadata": {
        "colab": {
          "base_uri": "https://localhost:8080/"
        },
        "id": "HXrHQb6yqP4S",
        "outputId": "412cc499-9507-4bb2-c0fa-1d2e5058777d"
      },
      "execution_count": 2,
      "outputs": [
        {
          "output_type": "execute_result",
          "data": {
            "text/plain": [
              "CelebModel(\n",
              "  (unit0): Permute()\n",
              "  (unit1): Layer(\n",
              "    (conv): Conv2d(3, 32, kernel_size=(3, 3), stride=(1, 1), padding=(1, 1))\n",
              "    (bn): BatchNorm2d(32, eps=1e-05, momentum=0.1, affine=True, track_running_stats=True)\n",
              "    (relu): ReLU()\n",
              "  )\n",
              "  (unit2): Layer(\n",
              "    (conv): Conv2d(32, 32, kernel_size=(3, 3), stride=(1, 1), padding=(1, 1))\n",
              "    (bn): BatchNorm2d(32, eps=1e-05, momentum=0.1, affine=True, track_running_stats=True)\n",
              "    (relu): ReLU()\n",
              "  )\n",
              "  (pool1): MaxPool2d(kernel_size=2, stride=2, padding=0, dilation=1, ceil_mode=False)\n",
              "  (unit3): Layer(\n",
              "    (conv): Conv2d(32, 64, kernel_size=(3, 3), stride=(1, 1), padding=(1, 1))\n",
              "    (bn): BatchNorm2d(64, eps=1e-05, momentum=0.1, affine=True, track_running_stats=True)\n",
              "    (relu): ReLU()\n",
              "  )\n",
              "  (unit4): Layer(\n",
              "    (conv): Conv2d(64, 64, kernel_size=(3, 3), stride=(1, 1), padding=(1, 1))\n",
              "    (bn): BatchNorm2d(64, eps=1e-05, momentum=0.1, affine=True, track_running_stats=True)\n",
              "    (relu): ReLU()\n",
              "  )\n",
              "  (pool2): MaxPool2d(kernel_size=2, stride=2, padding=0, dilation=1, ceil_mode=False)\n",
              "  (unit5): Layer(\n",
              "    (conv): Conv2d(64, 128, kernel_size=(3, 3), stride=(1, 1), padding=(1, 1))\n",
              "    (bn): BatchNorm2d(128, eps=1e-05, momentum=0.1, affine=True, track_running_stats=True)\n",
              "    (relu): ReLU()\n",
              "  )\n",
              "  (unit6): Layer(\n",
              "    (conv): Conv2d(128, 128, kernel_size=(3, 3), stride=(1, 1), padding=(1, 1))\n",
              "    (bn): BatchNorm2d(128, eps=1e-05, momentum=0.1, affine=True, track_running_stats=True)\n",
              "    (relu): ReLU()\n",
              "  )\n",
              "  (unit7): Layer(\n",
              "    (conv): Conv2d(128, 128, kernel_size=(3, 3), stride=(1, 1), padding=(1, 1))\n",
              "    (bn): BatchNorm2d(128, eps=1e-05, momentum=0.1, affine=True, track_running_stats=True)\n",
              "    (relu): ReLU()\n",
              "  )\n",
              "  (pool3): MaxPool2d(kernel_size=2, stride=2, padding=0, dilation=1, ceil_mode=False)\n",
              "  (unit8): Layer(\n",
              "    (conv): Conv2d(128, 256, kernel_size=(5, 5), stride=(1, 1))\n",
              "    (bn): BatchNorm2d(256, eps=1e-05, momentum=0.1, affine=True, track_running_stats=True)\n",
              "    (relu): ReLU()\n",
              "  )\n",
              "  (unit9): Layer(\n",
              "    (conv): Conv2d(256, 256, kernel_size=(5, 5), stride=(1, 1))\n",
              "    (bn): BatchNorm2d(256, eps=1e-05, momentum=0.1, affine=True, track_running_stats=True)\n",
              "    (relu): ReLU()\n",
              "  )\n",
              "  (unit10): Layer(\n",
              "    (conv): Conv2d(256, 256, kernel_size=(5, 5), stride=(1, 1))\n",
              "    (bn): BatchNorm2d(256, eps=1e-05, momentum=0.1, affine=True, track_running_stats=True)\n",
              "    (relu): ReLU()\n",
              "  )\n",
              "  (pool4): MaxPool2d(kernel_size=2, stride=2, padding=0, dilation=1, ceil_mode=False)\n",
              "  (drop2): Dropout(p=0.5, inplace=False)\n",
              "  (unit11): Layer(\n",
              "    (conv): Conv2d(256, 512, kernel_size=(3, 3), stride=(1, 1))\n",
              "    (bn): BatchNorm2d(512, eps=1e-05, momentum=0.1, affine=True, track_running_stats=True)\n",
              "    (relu): ReLU()\n",
              "  )\n",
              "  (unit12): Layer(\n",
              "    (conv): Conv2d(512, 512, kernel_size=(3, 3), stride=(1, 1))\n",
              "    (bn): BatchNorm2d(512, eps=1e-05, momentum=0.1, affine=True, track_running_stats=True)\n",
              "    (relu): ReLU()\n",
              "  )\n",
              "  (unit13): Layer(\n",
              "    (conv): Conv2d(512, 512, kernel_size=(3, 3), stride=(1, 1))\n",
              "    (bn): BatchNorm2d(512, eps=1e-05, momentum=0.1, affine=True, track_running_stats=True)\n",
              "    (relu): ReLU()\n",
              "  )\n",
              "  (pool5): AvgPool2d(kernel_size=2, stride=2, padding=0)\n",
              "  (drop3): Dropout(p=0.5, inplace=False)\n",
              "  (model): Sequential(\n",
              "    (0): Layer(\n",
              "      (conv): Conv2d(3, 32, kernel_size=(3, 3), stride=(1, 1), padding=(1, 1))\n",
              "      (bn): BatchNorm2d(32, eps=1e-05, momentum=0.1, affine=True, track_running_stats=True)\n",
              "      (relu): ReLU()\n",
              "    )\n",
              "    (1): Layer(\n",
              "      (conv): Conv2d(32, 32, kernel_size=(3, 3), stride=(1, 1), padding=(1, 1))\n",
              "      (bn): BatchNorm2d(32, eps=1e-05, momentum=0.1, affine=True, track_running_stats=True)\n",
              "      (relu): ReLU()\n",
              "    )\n",
              "    (2): MaxPool2d(kernel_size=2, stride=2, padding=0, dilation=1, ceil_mode=False)\n",
              "    (3): Layer(\n",
              "      (conv): Conv2d(32, 64, kernel_size=(3, 3), stride=(1, 1), padding=(1, 1))\n",
              "      (bn): BatchNorm2d(64, eps=1e-05, momentum=0.1, affine=True, track_running_stats=True)\n",
              "      (relu): ReLU()\n",
              "    )\n",
              "    (4): Layer(\n",
              "      (conv): Conv2d(64, 64, kernel_size=(3, 3), stride=(1, 1), padding=(1, 1))\n",
              "      (bn): BatchNorm2d(64, eps=1e-05, momentum=0.1, affine=True, track_running_stats=True)\n",
              "      (relu): ReLU()\n",
              "    )\n",
              "    (5): MaxPool2d(kernel_size=2, stride=2, padding=0, dilation=1, ceil_mode=False)\n",
              "    (6): Layer(\n",
              "      (conv): Conv2d(64, 128, kernel_size=(3, 3), stride=(1, 1), padding=(1, 1))\n",
              "      (bn): BatchNorm2d(128, eps=1e-05, momentum=0.1, affine=True, track_running_stats=True)\n",
              "      (relu): ReLU()\n",
              "    )\n",
              "    (7): Layer(\n",
              "      (conv): Conv2d(128, 128, kernel_size=(3, 3), stride=(1, 1), padding=(1, 1))\n",
              "      (bn): BatchNorm2d(128, eps=1e-05, momentum=0.1, affine=True, track_running_stats=True)\n",
              "      (relu): ReLU()\n",
              "    )\n",
              "    (8): Layer(\n",
              "      (conv): Conv2d(128, 128, kernel_size=(3, 3), stride=(1, 1), padding=(1, 1))\n",
              "      (bn): BatchNorm2d(128, eps=1e-05, momentum=0.1, affine=True, track_running_stats=True)\n",
              "      (relu): ReLU()\n",
              "    )\n",
              "    (9): MaxPool2d(kernel_size=2, stride=2, padding=0, dilation=1, ceil_mode=False)\n",
              "    (10): Layer(\n",
              "      (conv): Conv2d(128, 256, kernel_size=(5, 5), stride=(1, 1))\n",
              "      (bn): BatchNorm2d(256, eps=1e-05, momentum=0.1, affine=True, track_running_stats=True)\n",
              "      (relu): ReLU()\n",
              "    )\n",
              "    (11): Layer(\n",
              "      (conv): Conv2d(256, 256, kernel_size=(5, 5), stride=(1, 1))\n",
              "      (bn): BatchNorm2d(256, eps=1e-05, momentum=0.1, affine=True, track_running_stats=True)\n",
              "      (relu): ReLU()\n",
              "    )\n",
              "    (12): Layer(\n",
              "      (conv): Conv2d(256, 256, kernel_size=(5, 5), stride=(1, 1))\n",
              "      (bn): BatchNorm2d(256, eps=1e-05, momentum=0.1, affine=True, track_running_stats=True)\n",
              "      (relu): ReLU()\n",
              "    )\n",
              "    (13): MaxPool2d(kernel_size=2, stride=2, padding=0, dilation=1, ceil_mode=False)\n",
              "    (14): Dropout(p=0.5, inplace=False)\n",
              "    (15): Layer(\n",
              "      (conv): Conv2d(256, 512, kernel_size=(3, 3), stride=(1, 1))\n",
              "      (bn): BatchNorm2d(512, eps=1e-05, momentum=0.1, affine=True, track_running_stats=True)\n",
              "      (relu): ReLU()\n",
              "    )\n",
              "    (16): Layer(\n",
              "      (conv): Conv2d(512, 512, kernel_size=(3, 3), stride=(1, 1))\n",
              "      (bn): BatchNorm2d(512, eps=1e-05, momentum=0.1, affine=True, track_running_stats=True)\n",
              "      (relu): ReLU()\n",
              "    )\n",
              "    (17): Layer(\n",
              "      (conv): Conv2d(512, 512, kernel_size=(3, 3), stride=(1, 1))\n",
              "      (bn): BatchNorm2d(512, eps=1e-05, momentum=0.1, affine=True, track_running_stats=True)\n",
              "      (relu): ReLU()\n",
              "    )\n",
              "    (18): AvgPool2d(kernel_size=2, stride=2, padding=0)\n",
              "    (19): Dropout(p=0.5, inplace=False)\n",
              "  )\n",
              "  (fc): Linear(in_features=512, out_features=40, bias=True)\n",
              ")"
            ]
          },
          "metadata": {},
          "execution_count": 2
        }
      ]
    },
    {
      "cell_type": "code",
      "source": [
        "def transform_image(image_bytes):\n",
        "    transform=transforms.Compose([transforms.Resize((224,224)),\n",
        "                              transforms.ToTensor(),\n",
        "                              transforms.Normalize(mean=[0.5063, 0.4258, 0.3832],std=[0.2644, 0.2436, 0.2397])])\n",
        "    image=Image.open(io.BytesIO(image_bytes)).convert('RGB')\n",
        "    return transform(image).permute(1, 2, 0)\n",
        "\n",
        "def Predict(image):\n",
        "    pred=model(image.unsqueeze(0))\n",
        "    labels=['5_o_Clock_Shadow', 'Arched_Eyebrows', 'Attractive', 'Bags_Under_Eyes',\n",
        "       'Bald', 'Bangs', 'Big_Lips', 'Big_Nose', 'Black_Hair', 'Blond_Hair',\n",
        "       'Blurry', 'Brown_Hair', 'Bushy_Eyebrows', 'Chubby', 'Double_Chin',\n",
        "       'Eyeglasses', 'Goatee', 'Gray_Hair', 'Heavy_Makeup', 'High_Cheekbones',\n",
        "       'Male', 'Mouth_Slightly_Open', 'Mustache', 'Narrow_Eyes', 'No_Beard',\n",
        "       'Oval_Face', 'Pale_Skin', 'Pointy_Nose', 'Receding_Hairline',\n",
        "       'Rosy_Cheeks', 'Sideburns', 'Smiling', 'Straight_Hair', 'Wavy_Hair',\n",
        "       'Wearing_Earrings', 'Wearing_Hat', 'Wearing_Lipstick',\n",
        "       'Wearing_Necklace', 'Wearing_Necktie', 'Young']\n",
        "    attr=list(torch.round(torch.sigmoid(pred)).cpu().detach().numpy().squeeze(0))\n",
        "    prd=list(torch.sigmoid(pred).cpu().detach().numpy().squeeze(0))\n",
        "    new_labels=[label for label,a in list(zip(labels,attr)) if a==1]\n",
        "    pred_list=[p for p,a in list(zip(prd,attr)) if a==1]\n",
        "    return [{'name':label ,'percent':round(p,2)} for label,p in zip(new_labels,pred_list)]\n",
        "\n",
        "# Test image\n",
        "with open(\"/content/statham.jpeg\", \"rb\") as file:\n",
        "    img_bytes=file.read()\n",
        "\n",
        "tensor=transform_image(img_bytes)\n",
        "labels=Predict(tensor)"
      ],
      "metadata": {
        "id": "dQ65520yqXWG"
      },
      "execution_count": 5,
      "outputs": []
    },
    {
      "cell_type": "code",
      "source": [
        "labels"
      ],
      "metadata": {
        "colab": {
          "base_uri": "https://localhost:8080/"
        },
        "id": "M27Jr6VUr-2C",
        "outputId": "685a98b8-cf37-463c-a8ff-2523243cff74"
      },
      "execution_count": 7,
      "outputs": [
        {
          "output_type": "execute_result",
          "data": {
            "text/plain": [
              "[{'name': 'Big_Nose', 'percent': 0.71},\n",
              " {'name': 'Chubby', 'percent': 0.59},\n",
              " {'name': 'Male', 'percent': 0.99},\n",
              " {'name': 'Mouth_Slightly_Open', 'percent': 0.65},\n",
              " {'name': 'Mustache', 'percent': 0.77},\n",
              " {'name': 'Wearing_Hat', 'percent': 1.0}]"
            ]
          },
          "metadata": {},
          "execution_count": 7
        }
      ]
    },
    {
      "cell_type": "code",
      "source": [
        "trained_model = CelebModel()\n",
        "trained_model.load_state_dict(torch.load('/content/CelebFaces-Attributes-Prediction/model.pth', map_location=torch.device('cpu')))\n",
        "trained_model.eval()\n",
        "\n",
        "# Export the trained model to ONNX\n",
        "dummy_input = Variable(torch.randn(1, 224, 224, 3))\n",
        "torch.onnx.export(trained_model, dummy_input, \"celeb_model3.onnx\")\n",
        "\n",
        "model = onnx.load('celeb_model3.onnx')\n",
        "# Import the ONNX model to Tensorflow\n",
        "tf_rep = prepare(model)\n",
        "tf_rep.export_graph('celeb_model3.pb')\n",
        "\n",
        "!zip celeb3.zip -r celeb_model3.pb"
      ],
      "metadata": {
        "colab": {
          "base_uri": "https://localhost:8080/"
        },
        "id": "cXYriYCxqaAv",
        "outputId": "9368453a-4cbc-4740-f073-d6203b738f59"
      },
      "execution_count": 9,
      "outputs": [
        {
          "output_type": "stream",
          "name": "stderr",
          "text": [
            "WARNING:absl:Function `__call__` contains input name(s) 0 with unsupported characters which will be renamed to unknown in the SavedModel.\n",
            "WARNING:absl:Found untraced functions such as gen_tensor_dict while saving (showing 1 of 1). These functions will not be directly callable after loading.\n"
          ]
        },
        {
          "output_type": "stream",
          "name": "stdout",
          "text": [
            "INFO:tensorflow:Assets written to: celeb_model3.pb/assets\n"
          ]
        },
        {
          "output_type": "stream",
          "name": "stderr",
          "text": [
            "INFO:tensorflow:Assets written to: celeb_model3.pb/assets\n"
          ]
        },
        {
          "output_type": "stream",
          "name": "stdout",
          "text": [
            "  adding: celeb_model3.pb/ (stored 0%)\n",
            "  adding: celeb_model3.pb/variables/ (stored 0%)\n",
            "  adding: celeb_model3.pb/variables/variables.index (deflated 33%)\n",
            "  adding: celeb_model3.pb/variables/variables.data-00000-of-00001 (deflated 10%)\n",
            "  adding: celeb_model3.pb/saved_model.pb (deflated 7%)\n",
            "  adding: celeb_model3.pb/assets/ (stored 0%)\n"
          ]
        }
      ]
    },
    {
      "cell_type": "code",
      "source": [
        ""
      ],
      "metadata": {
        "id": "rkYdghunqdeE"
      },
      "execution_count": null,
      "outputs": []
    }
  ]
}